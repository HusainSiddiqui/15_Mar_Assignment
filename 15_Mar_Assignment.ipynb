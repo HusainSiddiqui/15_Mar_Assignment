{
 "cells": [
  {
   "cell_type": "markdown",
   "metadata": {},
   "source": [
    "Q1: Explain the following with an example:\n",
    "\n",
    "    1) Artificial Intelligence\n",
    "    2) Machine Learnin\n",
    "    3) Deep Learning"
   ]
  },
  {
   "cell_type": "markdown",
   "metadata": {},
   "source": [
    "1) Artificial Intelligence\n",
    " \n",
    "AI is to create intelligent machines that can perform complex tasks and make decisions independently\n",
    "\n",
    "2) Machine Learnin\n",
    "\n",
    "The goal of machine learning is to develop algorithms and models that can automatically improve their performance based on experience and feedback from data.\n",
    "\n",
    "3) Deep Learning\n",
    "\n",
    "Deep Learning is a subfield of machine learning that focuses on building and training artificial neural networks to solve complex problems. It involves using algorithms that are inspired by the structure and function of the human brain, with multiple layers of interconnected neurons that process and analyze data."
   ]
  },
  {
   "cell_type": "markdown",
   "metadata": {},
   "source": [
    "Q2: What is supervised learning? List some examples of supervised learning."
   ]
  },
  {
   "cell_type": "markdown",
   "metadata": {},
   "source": [
    "Supervised learning is a type of machine learning where the model is trained on a labeled dataset consisting of input and output pairs. The goal is to learn a mapping function from the input variables to the output variables, so that the model can make predictions on new, unseen data.\n",
    "\n",
    "Some examples of supervised learning include:\n",
    "\n",
    "1. Classification: where the goal is to predict a categorical label for the input data, such as classifying emails as spam or not spam.\n",
    "\n",
    "2. Regression: where the goal is to predict a continuous output variable, such as predicting the price of a house based on its features.\n",
    "\n",
    "3. Object detection: where the goal is to detect and classify objects in an image, such as identifying the faces of people in a photo.\n",
    "\n",
    "4. Speech recognition: where the goal is to transcribe spoken words into text.\n",
    "\n",
    "5. Sentiment analysis: where the goal is to predict the sentiment of a piece of text, such as whether a movie review is positive or negative."
   ]
  },
  {
   "cell_type": "markdown",
   "metadata": {},
   "source": [
    "Q3: What is unsupervised learning? List some examples of unsupervised learning."
   ]
  },
  {
   "cell_type": "markdown",
   "metadata": {},
   "source": [
    "Unsupervised learning is a type of machine learning where the algorithm learns to find patterns or relationships in the data without being explicitly taught by labeled examples. \n",
    "\n",
    "Examples of unsupervised learning include:\n",
    "\n",
    "1. Clustering: grouping data points based on similarities or differences in their features. Examples include k-means clustering and hierarchical clustering.\n",
    "\n",
    "2. Anomaly detection: identifying rare or unusual data points that do not fit the typical patterns in the data. This can be useful in detecting fraud, errors, or outliers.\n",
    "\n",
    "3. Dimensionality reduction: reducing the number of features in the data while retaining as much of the original information as possible. This can help to simplify the data and make it easier to analyze or visualize. Examples include principal component analysis (PCA) and t-distributed stochastic neighbor embedding (t-SNE).\n",
    "\n",
    "4. Association rule learning: identifying relationships or patterns between different items or variables in the data. This can be useful in market basket analysis, recommendation systems\n",
    "\n",
    "5. Generative modeling: creating new data samples that are similar to the original data. Examples include variational autoencoders (VAEs) and generative adversarial networks (GANs)."
   ]
  },
  {
   "cell_type": "markdown",
   "metadata": {},
   "source": [
    "Q4: What is the difference between AI, ML, DL, and DS?"
   ]
  },
  {
   "cell_type": "markdown",
   "metadata": {},
   "source": [
    "| Term | Full name | Definition | Example |\n",
    "|------|-----------|------------|---------|\n",
    "| AI | Artificial Intelligence | Simulating human intelligence in machines that are programmed to think and act like humans | Speech recognition, image recognition, natural language processing, chatbots |\n",
    "| ML | Machine Learning | Subset of AI that uses statistical algorithms to enable machines to learn from data without being explicitly programmed | Predicting stock prices, image classification, recommendation systems, fraud detection |\n",
    "| DL | Deep Learning | Subset of ML that uses artificial neural networks to enable machines to learn from large amounts of data | Image and speech recognition, natural language processing, self-driving cars |\n",
    "| DS | Data Science | Interdisciplinary field that uses scientific methods, processes, algorithms and systems to extract knowledge and insights from structured and unstructured data | Statistical analysis, data visualization, machine learning, big data analytics |"
   ]
  },
  {
   "cell_type": "markdown",
   "metadata": {},
   "source": [
    "Q5: What are the main differences between supervised, unsupervised, and semi-supervised learning?"
   ]
  },
  {
   "cell_type": "markdown",
   "metadata": {},
   "source": [
    "| Learning Type     | Definition                                                                                                                                                                   | Examples                                                                                                                                                                                                                                        |\n",
    "|-------------------|-----------------------------------------------------------------------------------------------------------------------------------------------------------------------------|-------------------------------------------------------------------------------------------------------------------------------------------------------------------------------------------------------------------------------------------------|\n",
    "| Supervised Learning   | Learning from labeled data, where the input and the output are provided, and the algorithm learns to map the input to the output. The goal is to predict the output for future inputs. | Classification, Regression                                                                                                                                                                                                                      |\n",
    "| Unsupervised Learning | Learning from unlabeled data, where only the input is provided, and the algorithm learns to discover patterns or relationships in the data. The goal is to group or cluster similar data.      | Clustering, Association, Anomaly Detection                                                                                                                                                                                                      |\n",
    "| Semi-Supervised Learning | Learning from a combination of labeled and unlabeled data, where a small amount of labeled data is available, and the algorithm learns to generalize from the labeled data to the unlabeled data. | Text classification, Image classification, Speech recognition                                                                                                                                                                                  |\n"
   ]
  },
  {
   "cell_type": "markdown",
   "metadata": {},
   "source": [
    "Q6: What is train, test and validation split? Explain the importance of each term."
   ]
  },
  {
   "cell_type": "markdown",
   "metadata": {},
   "source": [
    "| Term | Definition | Importance |\n",
    "| --- | --- | --- |\n",
    "| Train set | The portion of the dataset used for training the model | Used to train the model and adjust its parameters |\n",
    "| Test set | The portion of the dataset used for testing the trained model | Used to evaluate the performance of the model on unseen data and avoid overfitting |\n",
    "| Validation set | The portion of the dataset used for hyperparameter tuning and model selection | Used to tune the model hyperparameters and select the best model |"
   ]
  },
  {
   "cell_type": "markdown",
   "metadata": {},
   "source": [
    "Q7: How can unsupervised learning be used in anomaly detection?"
   ]
  },
  {
   "cell_type": "markdown",
   "metadata": {},
   "source": [
    "Here are some ways in which unsupervised learning can be used in anomaly detection:\n",
    "\n",
    "- Clustering: Unsupervised learning algorithms like k-means clustering and hierarchical clustering can be used to group similar data points together. If any data points do not fit well into any cluster or form a cluster of their own, they can be identified as anomalies.\n",
    "\n",
    "- Density-Based Approaches: Density-based clustering algorithms like DBSCAN can also be used for anomaly detection. Data points that are not part of any cluster or are in very sparse regions of the density plot can be identified as anomalies.\n",
    "\n",
    "- Dimensionality Reduction: Unsupervised dimensionality reduction techniques like PCA can be used to identify anomalous data points that are far from the principal components.\n",
    "\n",
    "- Autoencoders: Autoencoders are neural networks that can learn to compress and reconstruct data. Anomalies can be detected if the reconstruction error is high for a given data point.\n",
    "\n",
    "- Outlier Detection: Unsupervised outlier detection algorithms like Isolation Forest and Local Outlier Factor can be used to identify anomalous data points based on their distance from other data points."
   ]
  },
  {
   "cell_type": "markdown",
   "metadata": {},
   "source": [
    "Q8: List down some commonly used supervised learning algorithms and unsupervised learning\n",
    "algorithms."
   ]
  },
  {
   "cell_type": "markdown",
   "metadata": {},
   "source": [
    "Commonly used supervised learning algorithms:\n",
    "- Linear Regression\n",
    "- Logistic Regression\n",
    "- Decision Trees\n",
    "- Random Forest\n",
    "- Support Vector Machines (SVM)\n",
    "- K-Nearest Neighbors (KNN)\n",
    "- Naive Bayes\n",
    "\n",
    "Commonly used unsupervised learning algorithms:\n",
    "- K-Means Clustering\n",
    "- Hierarchical Clustering\n",
    "- Principal Component Analysis (PCA)\n",
    "- t-Distributed Stochastic Neighbor Embedding (t-SNE)\n",
    "- Association Rule Mining (Apriori)\n",
    "- Density-Based Spatial Clustering of Applications with Noise (DBSCAN)"
   ]
  }
 ],
 "metadata": {
  "kernelspec": {
   "display_name": "Python 3",
   "language": "python",
   "name": "python3"
  },
  "language_info": {
   "codemirror_mode": {
    "name": "ipython",
    "version": 3
   },
   "file_extension": ".py",
   "mimetype": "text/x-python",
   "name": "python",
   "nbconvert_exporter": "python",
   "pygments_lexer": "ipython3",
   "version": "3.6.5"
  }
 },
 "nbformat": 4,
 "nbformat_minor": 2
}
